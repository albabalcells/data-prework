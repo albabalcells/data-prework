{
 "cells": [
  {
   "cell_type": "code",
   "execution_count": null,
   "metadata": {},
   "outputs": [],
   "source": [
    "well_height=125\n",
    "daily_distance=[30,21,33,77,44,45,23,45,12,34,55]\n",
    "nightly_distance=-20\n",
    "snail_position=0\n",
    "days=0\n",
    "\n",
    "for distance in daily_distance:\n",
    "    while snail_position<well_height:\n",
    "        snail_position=distance-nightly_distance\n",
    "        days+=1\n",
    "\n",
    "print(\"The snail escaped in\", days, \"days\")"
   ]
  },
  {
   "cell_type": "code",
   "execution_count": null,
   "metadata": {},
   "outputs": [],
   "source": [
    "well_height=125\n",
    "daily_distance=[30,21,33,77,44,45,23,45,12,34,55]\n",
    "nightly_distance=-20\n",
    "snail_position=0\n",
    "days=0\n",
    "\n",
    "for distance in daily_distance:\n",
    "    while snail_position<well_height:\n",
    "        snail_position=distance-nightly_distance\n",
    "        days+=1\n",
    "\n",
    "print(\"The snail escaped in\", days, \"days\")"
   ]
  },
  {
   "cell_type": "code",
   "execution_count": null,
   "metadata": {},
   "outputs": [],
   "source": []
  },
  {
   "cell_type": "code",
   "execution_count": null,
   "metadata": {},
   "outputs": [],
   "source": [
    "well_height=125\n",
    "daily_distance=[30,21,33,77,44,45,23,45,12,34,55]\n",
    "nightly_distance=-20\n",
    "snail_position=0\n",
    "days=0\n",
    "\n",
    "for distance in daily_distance:\n",
    "    while snail_position<well_height:\n",
    "        snail_position=distance-nightly_distance\n",
    "        days+=1\n",
    "\n",
    "print(\"The snail escaped in\", days, \"days\")"
   ]
  },
  {
   "cell_type": "code",
   "execution_count": null,
   "metadata": {},
   "outputs": [],
   "source": [
    "well_height=125\n",
    "daily_distance=[30,21,33,77,44,45,23,45,12,34,55]\n",
    "nightly_distance=-20\n",
    "snail_position=0\n",
    "days=0\n",
    "\n",
    "for distance in daily_distance:\n",
    "    while snail_position<well_height:\n",
    "        snail_position=distance-nightly_distance\n",
    "        days+=1\n",
    "\n",
    "print(\"The snail escaped in\", days, \"days\")"
   ]
  },
  {
   "cell_type": "code",
   "execution_count": null,
   "metadata": {},
   "outputs": [],
   "source": []
  }
 ],
 "metadata": {
  "kernelspec": {
   "display_name": "Python 3",
   "language": "python",
   "name": "python3"
  },
  "language_info": {
   "codemirror_mode": {
    "name": "ipython",
    "version": 3
   },
   "file_extension": ".py",
   "mimetype": "text/x-python",
   "name": "python",
   "nbconvert_exporter": "python",
   "pygments_lexer": "ipython3",
   "version": "3.8.2"
  }
 },
 "nbformat": 4,
 "nbformat_minor": 4
}
