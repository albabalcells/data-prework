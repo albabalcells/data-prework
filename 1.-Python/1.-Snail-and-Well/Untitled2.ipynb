{
 "cells": [
  {
   "cell_type": "code",
   "execution_count": 8,
   "metadata": {},
   "outputs": [
    {
     "name": "stdout",
     "output_type": "stream",
     "text": [
      "The snail will escape in 11 days.\n"
     ]
    }
   ],
   "source": [
    "well_height=125\n",
    "daily_distance=30\n",
    "nightly_distance=-20\n",
    "snail_position=0\n",
    "days=0\n",
    "\n",
    "while snail_position<=well_height:\n",
    "    snail_position+=daily_distance\n",
    "    days+=1\n",
    "    if snail_position<=well_height:\n",
    "        snail_position+=nightly_distance\n",
    "\n",
    "print(\"The snail will escape in\", days, \"days.\")\n",
    "\n",
    "\n",
    "    "
   ]
  },
  {
   "cell_type": "code",
   "execution_count": 17,
   "metadata": {},
   "outputs": [
    {
     "name": "stdout",
     "output_type": "stream",
     "text": [
      "The snail will escape in 5 days.\n"
     ]
    }
   ],
   "source": [
    "well_height=125\n",
    "advance_cm=[30,21,33,77,44,45,23,45,12,34,55]\n",
    "nightly_distance=-20\n",
    "snail_position=0\n",
    "days=0\n",
    "\n",
    "while snail_position<=well_height:\n",
    "    days+=1\n",
    "    snail_position+=advance_cm[days]\n",
    "    if snail_position<=well_height:\n",
    "        snail_position+=nightly_distance\n",
    "\n",
    "print(\"The snail will escape in\", days, \"days.\")\n"
   ]
  },
  {
   "cell_type": "code",
   "execution_count": 15,
   "metadata": {},
   "outputs": [
    {
     "name": "stdout",
     "output_type": "stream",
     "text": [
      "It would take 6 days.\n"
     ]
    }
   ],
   "source": [
    "advance_cm = [30, 21, 33, 77, 44, 45, 23, 45, 12, 34, 55]\n",
    "nightly_distance = 20\n",
    "snail_position = 0\n",
    "days = 0\n",
    "\n",
    "while snail_position <= well_height:\n",
    "    snail_position += advance_cm[days]\n",
    "    if snail_position <= well_height:\n",
    "        snail_position -= nightly_distance\n",
    "    days += 1\n",
    "    \n",
    "print(\"It would take {} days.\".format(days))"
   ]
  },
  {
   "cell_type": "code",
   "execution_count": 29,
   "metadata": {},
   "outputs": [
    {
     "name": "stdout",
     "output_type": "stream",
     "text": [
      "The maximum displacement in a day is 57 cm.\n",
      "The minimum displacement in a day is 1 cm.\n"
     ]
    }
   ],
   "source": [
    "advance_cm = [30, 21, 33, 77, 44, 45, 23, 45, 12, 34, 55]\n",
    "nightly_distance = -20\n",
    "\n",
    "max_displacement=(max(advance_cm[:days])+nightly_distance)\n",
    "min_displacement=(min(advance_cm[:days])+nightly_distance)\n",
    "\n",
    "print(\"The maximum displacement in a day is\", max_displacement, \"cm.\")\n",
    "print(\"The minimum displacement in a day is\", min_displacement, \"cm.\")\n"
   ]
  },
  {
   "cell_type": "code",
   "execution_count": null,
   "metadata": {},
   "outputs": [],
   "source": []
  }
 ],
 "metadata": {
  "kernelspec": {
   "display_name": "Python 3",
   "language": "python",
   "name": "python3"
  }
 },
 "nbformat": 4,
 "nbformat_minor": 4
}
